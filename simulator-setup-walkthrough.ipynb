{
 "cells": [
  {
   "cell_type": "markdown",
   "metadata": {
    "colab_type": "text",
    "id": "Fz6KSQ13_3Rr"
   },
   "source": [
    "# Pair Usage and Event Tables Example"
   ]
  },
  {
   "cell_type": "code",
   "execution_count": 1,
   "metadata": {
    "colab": {},
    "colab_type": "code",
    "id": "gboBW2sVh2G_"
   },
   "outputs": [],
   "source": [
    "# Prepare example data set\n",
    "usages = [\n",
    " {\n",
    "  'start_time': 10,\n",
    "  'end_time' : 15,\n",
    "  'collection_id': 1,\n",
    "  'instance_index': 2,\n",
    "  'machine_id' : 3,\n",
    "  'alloc_collection_id' : 4,\n",
    "  'alloc_instance_index' : 5,\n",
    "  'collection_type' : 6,\n",
    "  'average_usage' : {'cpus':0.7, 'memory':8},\n",
    "  'maximum_usage' : {'cpus':0.9, 'memory':10},\n",
    "  'random_sample_usage' : {'cpus':0.11, 'memory':12},\n",
    "  'assigned_memory' : 13,\n",
    "  'sample_rate' : 17,\n",
    "  'cpu_usage_distribution' : [0, 0.1, 0.2, 0.3, 0.4, 0.5, 0.6, 0.7, 0.8, 0.9, 1],\n",
    "  'tail_cpu_usage_distribution' : [0.91, 0.92, 0.93, 0.94, 0.95, 0.96, 0.97, 0.98, 0.99],\n",
    " },\n",
    "]\n",
    "\n",
    "instance_events = [\n",
    " {\n",
    "  'time': 5,\n",
    "  'collection_id': 1,\n",
    "  'instance_index': 2,\n",
    "  'scheduling_class' : 3,\n",
    "  'collection_type' : 5, \n",
    "  'priority' : 6, \n",
    "  'alloc_collection_id' : 4, \n",
    "  'machine_id' : 3, \n",
    "  'alloc_instance_index' : 5,\n",
    "  'resource_request': {'cpus': 0.6, 'memory':2}\n",
    " },\n",
    "]"
   ]
  },
  {
   "cell_type": "code",
   "execution_count": 2,
   "metadata": {
    "colab": {
     "base_uri": "https://localhost:8080/",
     "height": 698
    },
    "colab_type": "code",
    "executionInfo": {
     "elapsed": 405,
     "status": "error",
     "timestamp": 1591709100851,
     "user": {
      "displayName": "Noman Bashir",
      "photoUrl": "https://lh3.googleusercontent.com/a-/AOh14GgqshUA7zPNE9UeqQv8UL_1QE1dnPGsJovepcIG=s64",
      "userId": "15053586888689793963"
     },
     "user_tz": 240
    },
    "id": "8F02iopOt6Q5",
    "outputId": "57cf935a-0815-4339-fbfd-bd4fbdca9f91"
   },
   "outputs": [
    {
     "data": {
      "application/javascript": [
       "\n",
       "        if (typeof window.interactive_beam_jquery == 'undefined') {\n",
       "          var jqueryScript = document.createElement('script');\n",
       "          jqueryScript.src = 'https://code.jquery.com/jquery-3.4.1.slim.min.js';\n",
       "          jqueryScript.type = 'text/javascript';\n",
       "          jqueryScript.onload = function() {\n",
       "            var datatableScript = document.createElement('script');\n",
       "            datatableScript.src = 'https://cdn.datatables.net/1.10.20/js/jquery.dataTables.min.js';\n",
       "            datatableScript.type = 'text/javascript';\n",
       "            datatableScript.onload = function() {\n",
       "              window.interactive_beam_jquery = jQuery.noConflict(true);\n",
       "              window.interactive_beam_jquery(document).ready(function($){\n",
       "                \n",
       "              });\n",
       "            }\n",
       "            document.head.appendChild(datatableScript);\n",
       "          };\n",
       "          document.head.appendChild(jqueryScript);\n",
       "        } else {\n",
       "          window.interactive_beam_jquery(document).ready(function($){\n",
       "            \n",
       "          });\n",
       "        }"
      ]
     },
     "metadata": {},
     "output_type": "display_data"
    },
    {
     "data": {
      "application/javascript": [
       "\n",
       "        var import_html = () => {\n",
       "          ['https://raw.githubusercontent.com/PAIR-code/facets/1.0.0/facets-dist/facets-jupyter.html'].forEach(href => {\n",
       "            var link = document.createElement('link');\n",
       "            link.rel = 'import'\n",
       "            link.href = href;\n",
       "            document.head.appendChild(link);\n",
       "          });\n",
       "        }\n",
       "        if ('import' in document.createElement('link')) {\n",
       "          import_html();\n",
       "        } else {\n",
       "          var webcomponentScript = document.createElement('script');\n",
       "          webcomponentScript.src = 'https://cdnjs.cloudflare.com/ajax/libs/webcomponentsjs/1.3.3/webcomponents-lite.js';\n",
       "          webcomponentScript.type = 'text/javascript';\n",
       "          webcomponentScript.onload = function(){\n",
       "            import_html();\n",
       "          };\n",
       "          document.head.appendChild(webcomponentScript);\n",
       "        }"
      ]
     },
     "metadata": {},
     "output_type": "display_data"
    }
   ],
   "source": [
    "import apache_beam as beam\n",
    "from apache_beam.io.gcp.internal.clients import bigquery\n",
    "from simulator.pair_instance_event_to_usage import JoinUsageAndEvent\n",
    "from simulator.map_to_schema import MapVMSampleToSchema\n",
    "import json\n",
    "\n",
    "with beam.Pipeline() as pipeline:\n",
    "    input_usage = pipeline | \"Create test dataset for usage\" >> beam.Create(usages)\n",
    "    input_event = pipeline | \"Create test dataset for events\" >> beam.Create(instance_events)\n",
    "    \n",
    "    usage_event_stream = JoinUsageAndEvent(input_usage, input_event) \n",
    "    final_table = usage_event_stream | \"Map Joined Data to Schema\" >> beam.Map(MapVMSampleToSchema) \n",
    "    \n",
    "    table_spec = bigquery.TableReference(\n",
    "        projectId='<input project ID>',\n",
    "        datasetId='<input dataset name>',\n",
    "        tableId='<input table name>')    \n",
    "    \n",
    "    f = open('table_schema.json')\n",
    "    table_schema = json.loads(f.read())\n",
    "    \n",
    "    _ = final_table | beam.io.WriteToBigQuery(\n",
    "        table_spec,\n",
    "        schema=table_schema,\n",
    "        write_disposition=beam.io.BigQueryDisposition.WRITE_TRUNCATE,\n",
    "        create_disposition=beam.io.BigQueryDisposition.CREATE_IF_NEEDED)"
   ]
  }
 ],
 "metadata": {
  "colab": {
   "collapsed_sections": [],
   "name": "simulator-setup-walkthrough.ipynb",
   "provenance": [
    {
     "file_id": "1tenN6UmPBofkVJPB6QG8w-lGiP30kJqp",
     "timestamp": 1591236347186
    },
    {
     "file_id": "https://github.com/apache/beam/blob/master/examples/notebooks/get-started/try-apache-beam-py.ipynb",
     "timestamp": 1590791073982
    }
   ],
   "toc_visible": true
  },
  "kernelspec": {
   "display_name": "Python 3",
   "language": "python",
   "name": "python3"
  },
  "language_info": {
   "codemirror_mode": {
    "name": "ipython",
    "version": 3
   },
   "file_extension": ".py",
   "mimetype": "text/x-python",
   "name": "python",
   "nbconvert_exporter": "python",
   "pygments_lexer": "ipython3",
   "version": "3.7.3"
  }
 },
 "nbformat": 4,
 "nbformat_minor": 1
}
